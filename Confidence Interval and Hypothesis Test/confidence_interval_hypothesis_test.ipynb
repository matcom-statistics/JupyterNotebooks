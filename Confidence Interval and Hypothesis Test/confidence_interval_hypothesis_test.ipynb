{
 "cells": [
  {
   "cell_type": "markdown",
   "metadata": {},
   "source": [
    "## 1. Realizar Análisis de Intervalos de Confianza\n",
    "\n",
    "El análisis de intervalos de confianza nos permite estimar el rango dentro del cual se espera que se encuentre una determinada métrica poblacional, con un nivel de confianza específico. Este paso es crucial para inferir propiedades de la población a partir de nuestra muestra de datos."
   ]
  },
  {
   "cell_type": "markdown",
   "metadata": {},
   "source": [
    "### Intervalo de Confianza para la Media con Varianza Conocida\n",
    "\n",
    "Cuando la varianza de la población (σ^2) es conocida, el intervalo de confianza para la media puede ser calculado utilizando la distribución Normal. La fórmula para un intervalo de confianza se da por:\n",
    "\n",
    "$$\\bar{x} \\pm Z_{\\frac{\\alpha}{2}} \\left(\\frac{\\sigma}{\\sqrt{n}}\\right)$$\n",
    "\n",
    "Donde:\n",
    "\n",
    "- $\\bar{x}$: es la media de la muestra,\n",
    "- $Z_{\\frac{\\alpha}{2}}$: es el estimador Z de la distribución normal estándar para el nivel de confianza deseado,\n",
    "- $\\sigma$: es la desviación estándar de la población (raíz cuadrada de la varianza),\n",
    "- $n$: es el tamaño de la muestra.\n"
   ]
  },
  {
   "cell_type": "code",
   "execution_count": 1,
   "metadata": {},
   "outputs": [],
   "source": [
    "import numpy as np\n",
    "import scipy.stats as stats\n",
    "\n",
    "def ci_mean_known_variance(data, sigma, confidence=0.95):\n",
    "    n = len(data)\n",
    "    mean = np.mean(data)\n",
    "    z = stats.norm.ppf((1 + confidence) / 2)\n",
    "    margin_error = z * (sigma / np.sqrt(n))\n",
    "    return mean - margin_error, mean + margin_error"
   ]
  },
  {
   "cell_type": "markdown",
   "metadata": {},
   "source": [
    "### Intervalo de Confianza para la Media con Varianza Desconocida\n",
    "\n",
    "Cuando la varianza es desconocida, se utiliza la distribución t en su lugar.\n",
    "\n",
    "**Fórmula:**\n",
    "\n",
    "$$\\bar{x} \\pm t_{\\frac{\\alpha}{2}, n-1} \\times \\sqrt{\\frac{s^2}{n}}$$\n",
    "\n",
    "Donde:\n",
    "\n",
    "- $s^2$ es la varianza de la muestra,\n",
    "- $t_{\\frac{\\alpha}{2}, n-1}$ es el puntaje t de la distribución t para el nivel de confianza deseado y $n-1$ grados de libertad."
   ]
  },
  {
   "cell_type": "code",
   "execution_count": null,
   "metadata": {},
   "outputs": [],
   "source": [
    "from scipy.stats import t\n",
    "\n",
    "def ci_mean_unknown_variance(sample_mean, sample_std, n, confidence_level=0.95):\n",
    "    alpha = 1 - confidence_level\n",
    "    df = n - 1\n",
    "    t_score = t.ppf(1 - alpha/2, df)\n",
    "    margin_error = t_score * (sample_std / (n**0.5))\n",
    "    return (sample_mean - margin_error, sample_mean + margin_error)"
   ]
  },
  {
   "cell_type": "markdown",
   "metadata": {},
   "source": [
    "### Intervalo de Confianza para la Varianza\n",
    "\n",
    "El intervalo de confianza para la varianza se basa en la distribución chi-cuadrado.\n",
    "\n",
    "**Fórmula:**\n",
    "\n",
    "$$\\left(\\frac{(n-1)s^2}{\\chi^2_{1-\\frac{\\alpha}{2}, n-1}}, \\frac{(n-1)s^2}{\\chi^2_{\\frac{\\alpha}{2}, n-1}}\\right)$$\n",
    "\n",
    "Donde:\n",
    "\n",
    "- $n$ es el tamaño de la muestra,\n",
    "- $s^2$ es la varianza de la muestra,\n",
    "- $\\chi^2_{\\frac{\\alpha}{2}, n-1}$ y $\\chi^2_{1-\\frac{\\alpha}{2}, n-1}$ son los valores críticos de la distribución chi-cuadrado para el nivel de confianza deseado y $n-1$ grados de libertad."
   ]
  },
  {
   "cell_type": "code",
   "execution_count": null,
   "metadata": {},
   "outputs": [],
   "source": [
    "from scipy.stats import chi2\n",
    "\n",
    "def ci_variance(data, confidence=0.95):\n",
    "    n = len(data)\n",
    "    var = np.var(data, ddof=1)\n",
    "    chi2_lower = stats.chi2.ppf((1 - confidence) / 2, n - 1)\n",
    "    chi2_upper = stats.chi2.ppf((1 + confidence) / 2, n - 1)\n",
    "    lower = (n - 1) * var / chi2_upper\n",
    "    upper = (n - 1) * var / chi2_lower\n",
    "    return lower, upper"
   ]
  },
  {
   "cell_type": "markdown",
   "metadata": {},
   "source": [
    "### Intervalo de Confianza para la Proporción\n",
    "\n",
    "Para una proporción de muestra, la fórmula utiliza la aproximación normal.\n",
    "\n",
    "**Fórmula:**\n",
    "\n",
    "$$\\hat{p} \\pm Z_{\\frac{\\alpha}{2}} \\times \\sqrt{\\frac{\\hat{p}(1 - \\hat{p})}{n}}$$\n",
    "\n",
    "Donde:\n",
    "\n",
    "- $\\hat{p}$ es la proporción de la muestra.\n"
   ]
  },
  {
   "cell_type": "code",
   "execution_count": null,
   "metadata": {},
   "outputs": [],
   "source": [
    "def ci_proportion(n_success, n_trials, confidence=0.95):\n",
    "    p_hat = n_success / n_trials\n",
    "    z = stats.norm.ppf((1 + confidence) / 2)\n",
    "    margin_error = z * np.sqrt(p_hat * (1 - p_hat) / n_trials)\n",
    "    return p_hat - margin_error, p_hat + margin_error"
   ]
  },
  {
   "cell_type": "markdown",
   "metadata": {},
   "source": [
    "## 2. Realizar pruebas de hipotesis para una poblacion"
   ]
  },
  {
   "cell_type": "markdown",
   "metadata": {},
   "source": [
    "### Media con Varianza Conocida\n",
    "\n",
    "- **Hipótesis Nula (H0):** $ \\mu = \\mu_0 $ (La media de la población es igual a un valor específico $ \\mu_0 $)\n",
    "- **Hipótesis Alternativa (H1):** $ \\mu \\neq \\mu_0 $ (La media de la población es diferente de $ \\mu_0 $)\n",
    "\n",
    "Para este caso, se utiliza la distribución normal si el tamaño de la muestra es grande ($ n>30 $). Si la varianza poblacional es conocida, se puede aplicar la prueba Z."
   ]
  },
  {
   "cell_type": "code",
   "execution_count": null,
   "metadata": {},
   "outputs": [],
   "source": [
    "import numpy as np\n",
    "import scipy.stats as stats\n",
    "\n",
    "def mean_known_variance_test(data, mu_0, sigma, n):\n",
    "    \n",
    "    # Z-test\n",
    "    z_stat = (np.mean(data) - mu_0) / (sigma / np.sqrt(n))\n",
    "    p_value = 2 * stats.norm.cdf(-np.abs(z_stat))\n",
    "\n",
    "    print(f'Z-statistic: {z_stat}, P-value: {p_value}')"
   ]
  },
  {
   "cell_type": "markdown",
   "metadata": {},
   "source": [
    "### Media con Varianza Desconocida\n",
    "\n",
    "- **Hipótesis Nula (H0):** $ \\mu = \\mu_0 $\n",
    "- **Hipótesis Alternativa (H1):** $ \\mu \\neq \\mu_0 $\n",
    "\n",
    "Cuando la varianza es desconocida y el tamaño de la muestra es pequeño, se utiliza la distribución t de Student.\n"
   ]
  },
  {
   "cell_type": "code",
   "execution_count": null,
   "metadata": {},
   "outputs": [],
   "source": [
    "from scipy.stats import t\n",
    "\n",
    "\n",
    "def mean_unknown_variance_test(data, mu_0, mu, n):\n",
    "    \n",
    "    s = np.std(data, ddof=1)  # standar deviation\n",
    "    t_stat = (mu- mu_0) / (s / np.sqrt(n))\n",
    "    \n",
    "    # Compute p-value\n",
    "    p_value = 2 * (1 - t.cdf(np.abs(t_stat), df=n-1))\n",
    "\n",
    "    # Print result\n",
    "    print(f'T-statistic: {t_stat}, p-value: {p_value}')"
   ]
  },
  {
   "cell_type": "markdown",
   "metadata": {},
   "source": [
    "###  Varianza\n",
    "\n",
    "- **Hipótesis Nula (H0):** $ \\sigma^2 = \\sigma_0^2 $\n",
    "- **Hipótesis Alternativa (H1):** $ \\sigma^2 \\neq \\sigma_0^2 $\n",
    "\n",
    "La prueba para la varianza se basa en la distribución chi-cuadrada."
   ]
  },
  {
   "cell_type": "code",
   "execution_count": null,
   "metadata": {},
   "outputs": [],
   "source": [
    "from scipy.stats import chi2\n",
    "\n",
    "def variance_test(data, sigma_0, n):\n",
    "    sigma = np.var(data, ddof=1)\n",
    "    chi2_stat = (n - 1) * sigma / sigma_0\n",
    "\n",
    "    # Compute p-value\n",
    "    p_value = 1 - chi2.cdf(chi2_stat, df=n-1)\n",
    "\n",
    "    # Imprimir el resultado\n",
    "    print(f'Chi2-statistic: {chi2_stat}, p-value: {p_value}')"
   ]
  },
  {
   "cell_type": "markdown",
   "metadata": {},
   "source": [
    "### Proporción\n",
    "\n",
    "- **Hipótesis Nula (H0):** $ p = p_0 $\n",
    "- **Hipótesis Alternativa (H1):** $ p \\neq p_0 $\n",
    "\n",
    "Para proporciones, se utiliza la aproximación normal de la distribución binomial."
   ]
  },
  {
   "cell_type": "code",
   "execution_count": null,
   "metadata": {},
   "outputs": [],
   "source": [
    "from scipy.stats import norm\n",
    "\n",
    "def proportion_test(p_0, p, n):\n",
    "    \n",
    "    z = (p_0 - p) / np.sqrt(p * (1 - p) / n)\n",
    "\n",
    "    # Calcular p-valor\n",
    "    p_valor = 2 * (1 - norm.cdf(np.abs(z)))\n",
    "\n",
    "    # Imprimir el resultado\n",
    "    print(f'Z-statistic: {z}, p-value: {p_valor}')"
   ]
  }
 ],
 "metadata": {
  "kernelspec": {
   "display_name": "Python 3",
   "language": "python",
   "name": "python3"
  },
  "language_info": {
   "codemirror_mode": {
    "name": "ipython",
    "version": 3
   },
   "file_extension": ".py",
   "mimetype": "text/x-python",
   "name": "python",
   "nbconvert_exporter": "python",
   "pygments_lexer": "ipython3",
   "version": "3.10.12"
  }
 },
 "nbformat": 4,
 "nbformat_minor": 2
}
